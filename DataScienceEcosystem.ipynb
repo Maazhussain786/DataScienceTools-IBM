{
 "cells": [
  {
   "cell_type": "markdown",
   "id": "4e5a2004-f72b-4609-b381-ddd07ebd97a0",
   "metadata": {},
   "source": [
    "# Data Science Tools and Ecosystem"
   ]
  },
  {
   "cell_type": "markdown",
   "id": "b2f52c77-6109-485a-83f9-a55bbc9b9d04",
   "metadata": {},
   "source": [
    "In this notebook, Data Science Tools and Ecosystem are summarized"
   ]
  },
  {
   "cell_type": "markdown",
   "id": "cfcf6929-c9e8-4f6b-8786-94ddf6781a39",
   "metadata": {},
   "source": [
    "Some of the popular languages that Data Scientists use are:\n",
    "1. Python\n",
    "2. R\n",
    "3. SQL"
   ]
  },
  {
   "cell_type": "markdown",
   "id": "55ee5674-8d9b-4c15-8f69-570b2f79e192",
   "metadata": {},
   "source": [
    "Some of the commonly used libraries used by Data Scientists include:\n",
    "1. pandas\n",
    "2. Numpy\n",
    "3. scikit"
   ]
  },
  {
   "cell_type": "markdown",
   "id": "fe876ce8-e493-409a-bd56-cafc44bf11ca",
   "metadata": {},
   "source": [
    "| Data Science Tools |\n",
    "|--------------------|\n",
    "| Jypter Notebook    |\n",
    "| RStudio            |\n",
    "| VS code            |"
   ]
  },
  {
   "cell_type": "markdown",
   "id": "2399c2f6-6a7a-4052-86bc-3ccb18dcd72f",
   "metadata": {},
   "source": [
    "### Below are a few examples of evaluating arithmetic expressions in Python."
   ]
  },
  {
   "cell_type": "code",
   "execution_count": 5,
   "id": "af0ce0cd-f524-45ee-accc-06fbc4207584",
   "metadata": {},
   "outputs": [
    {
     "data": {
      "text/plain": [
       "17"
      ]
     },
     "execution_count": 5,
     "metadata": {},
     "output_type": "execute_result"
    }
   ],
   "source": [
    "# This is a simple arithmetic expression to multiply then add integers\n",
    "(3 * 4) + 5"
   ]
  },
  {
   "cell_type": "code",
   "execution_count": 6,
   "id": "235b2a22-7389-453a-b9e8-2f46f591b256",
   "metadata": {},
   "outputs": [
    {
     "data": {
      "text/plain": [
       "3.3333333333333335"
      ]
     },
     "execution_count": 6,
     "metadata": {},
     "output_type": "execute_result"
    }
   ],
   "source": [
    "# This will convert 200 minutes to hours by dividing by 60\n",
    "200/60\n"
   ]
  },
  {
   "cell_type": "markdown",
   "id": "31f4b613-9be8-44c1-b859-71306a2a7c66",
   "metadata": {},
   "source": [
    "**Objectives:**\n",
    "\n",
    "- List popular languages for Data Science  \n",
    "- Identify commonly used libraries by Data Scientists  \n",
    "- Create and format Markdown cells in a Jupyter Notebook  \n",
    "- Perform basic arithmetic expressions in Python  \n",
    "- Convert values using Python expressions\n"
   ]
  },
  {
   "cell_type": "markdown",
   "id": "28763c36-d72b-49cf-b007-e072ad09be37",
   "metadata": {},
   "source": [
    "## Author\n",
    "\n",
    "Maaz Hussain\n"
   ]
  },
  {
   "cell_type": "code",
   "execution_count": null,
   "id": "95ca9325-503f-4c23-a69d-0b58e563d8b5",
   "metadata": {},
   "outputs": [],
   "source": []
  }
 ],
 "metadata": {
  "kernelspec": {
   "display_name": "Python [conda env:base] *",
   "language": "python",
   "name": "conda-base-py"
  },
  "language_info": {
   "codemirror_mode": {
    "name": "ipython",
    "version": 3
   },
   "file_extension": ".py",
   "mimetype": "text/x-python",
   "name": "python",
   "nbconvert_exporter": "python",
   "pygments_lexer": "ipython3",
   "version": "3.12.7"
  }
 },
 "nbformat": 4,
 "nbformat_minor": 5
}
